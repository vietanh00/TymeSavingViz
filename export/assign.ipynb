{
 "cells": [
  {
   "cell_type": "code",
   "execution_count": 1,
   "metadata": {},
   "outputs": [],
   "source": [
    "import pandas as pd"
   ]
  },
  {
   "cell_type": "code",
   "execution_count": 31,
   "metadata": {},
   "outputs": [
    {
     "data": {
      "text/html": [
       "<div>\n",
       "<style scoped>\n",
       "    .dataframe tbody tr th:only-of-type {\n",
       "        vertical-align: middle;\n",
       "    }\n",
       "\n",
       "    .dataframe tbody tr th {\n",
       "        vertical-align: top;\n",
       "    }\n",
       "\n",
       "    .dataframe thead th {\n",
       "        text-align: right;\n",
       "    }\n",
       "</style>\n",
       "<table border=\"1\" class=\"dataframe\">\n",
       "  <thead>\n",
       "    <tr style=\"text-align: right;\">\n",
       "      <th></th>\n",
       "      <th>Feature</th>\n",
       "      <th>Description</th>\n",
       "      <th>Keywords</th>\n",
       "    </tr>\n",
       "  </thead>\n",
       "  <tbody>\n",
       "    <tr>\n",
       "      <th>0</th>\n",
       "      <td>User</td>\n",
       "      <td>Include sign up, log in, view and manage user ...</td>\n",
       "      <td>user,signin,signup,profile,member</td>\n",
       "    </tr>\n",
       "    <tr>\n",
       "      <th>1</th>\n",
       "      <td>Transaction</td>\n",
       "      <td>Include CRUD, reports, lists, approve and decline</td>\n",
       "      <td>transaction,spend,income,outcome,expense,repor...</td>\n",
       "    </tr>\n",
       "    <tr>\n",
       "      <th>2</th>\n",
       "      <td>SharedBudget</td>\n",
       "      <td>Include CRUD, reports, lists, members, amount ...</td>\n",
       "      <td>sharedBudget,budget</td>\n",
       "    </tr>\n",
       "    <tr>\n",
       "      <th>3</th>\n",
       "      <td>GroupSaving</td>\n",
       "      <td>Include CRUD, reports, lists, members, amount ...</td>\n",
       "      <td>groupsaving,saving</td>\n",
       "    </tr>\n",
       "    <tr>\n",
       "      <th>4</th>\n",
       "      <td>Invitation</td>\n",
       "      <td>Include CRUD, accept, cancel</td>\n",
       "      <td>invitation, invite</td>\n",
       "    </tr>\n",
       "  </tbody>\n",
       "</table>\n",
       "</div>"
      ],
      "text/plain": [
       "        Feature                                        Description  \\\n",
       "0          User  Include sign up, log in, view and manage user ...   \n",
       "1   Transaction  Include CRUD, reports, lists, approve and decline   \n",
       "2  SharedBudget  Include CRUD, reports, lists, members, amount ...   \n",
       "3   GroupSaving  Include CRUD, reports, lists, members, amount ...   \n",
       "4    Invitation                       Include CRUD, accept, cancel   \n",
       "\n",
       "                                            Keywords  \n",
       "0                  user,signin,signup,profile,member  \n",
       "1  transaction,spend,income,outcome,expense,repor...  \n",
       "2                                sharedBudget,budget  \n",
       "3                                 groupsaving,saving  \n",
       "4                                 invitation, invite  "
      ]
     },
     "execution_count": 31,
     "metadata": {},
     "output_type": "execute_result"
    }
   ],
   "source": [
    "features_df = pd.read_csv('features.csv', delimiter=';')\n",
    "features_df.head()"
   ]
  },
  {
   "cell_type": "code",
   "execution_count": 4,
   "metadata": {},
   "outputs": [
    {
     "data": {
      "text/html": [
       "<div>\n",
       "<style scoped>\n",
       "    .dataframe tbody tr th:only-of-type {\n",
       "        vertical-align: middle;\n",
       "    }\n",
       "\n",
       "    .dataframe tbody tr th {\n",
       "        vertical-align: top;\n",
       "    }\n",
       "\n",
       "    .dataframe thead th {\n",
       "        text-align: right;\n",
       "    }\n",
       "</style>\n",
       "<table border=\"1\" class=\"dataframe\">\n",
       "  <thead>\n",
       "    <tr style=\"text-align: right;\">\n",
       "      <th></th>\n",
       "      <th>commit_id</th>\n",
       "      <th>file_name</th>\n",
       "      <th>code_added</th>\n",
       "      <th>code_deleted</th>\n",
       "    </tr>\n",
       "  </thead>\n",
       "  <tbody>\n",
       "    <tr>\n",
       "      <th>0</th>\n",
       "      <td>1a254230c7a54528b2505a81bfdf0a2b43d26ad3</td>\n",
       "      <td>src/app/api/sharedBudget/[sharedBudgetId]/host...</td>\n",
       "      <td>7</td>\n",
       "      <td>4</td>\n",
       "    </tr>\n",
       "    <tr>\n",
       "      <th>1</th>\n",
       "      <td>1a254230c7a54528b2505a81bfdf0a2b43d26ad3</td>\n",
       "      <td>src/app/api/sharedBudget/[sharedBudgetId]/host...</td>\n",
       "      <td>7</td>\n",
       "      <td>4</td>\n",
       "    </tr>\n",
       "    <tr>\n",
       "      <th>2</th>\n",
       "      <td>1a254230c7a54528b2505a81bfdf0a2b43d26ad3</td>\n",
       "      <td>src/app/api/sharedBudget/[sharedBudgetId]/host...</td>\n",
       "      <td>6</td>\n",
       "      <td>3</td>\n",
       "    </tr>\n",
       "    <tr>\n",
       "      <th>3</th>\n",
       "      <td>1a254230c7a54528b2505a81bfdf0a2b43d26ad3</td>\n",
       "      <td>src/app/api/sharedBudget/[sharedBudgetId]/info...</td>\n",
       "      <td>2</td>\n",
       "      <td>2</td>\n",
       "    </tr>\n",
       "    <tr>\n",
       "      <th>4</th>\n",
       "      <td>1a254230c7a54528b2505a81bfdf0a2b43d26ad3</td>\n",
       "      <td>src/app/api/sharedBudget/[sharedBudgetId]/repo...</td>\n",
       "      <td>2</td>\n",
       "      <td>2</td>\n",
       "    </tr>\n",
       "  </tbody>\n",
       "</table>\n",
       "</div>"
      ],
      "text/plain": [
       "                                  commit_id  \\\n",
       "0  1a254230c7a54528b2505a81bfdf0a2b43d26ad3   \n",
       "1  1a254230c7a54528b2505a81bfdf0a2b43d26ad3   \n",
       "2  1a254230c7a54528b2505a81bfdf0a2b43d26ad3   \n",
       "3  1a254230c7a54528b2505a81bfdf0a2b43d26ad3   \n",
       "4  1a254230c7a54528b2505a81bfdf0a2b43d26ad3   \n",
       "\n",
       "                                           file_name  code_added  code_deleted  \n",
       "0  src/app/api/sharedBudget/[sharedBudgetId]/host...           7             4  \n",
       "1  src/app/api/sharedBudget/[sharedBudgetId]/host...           7             4  \n",
       "2  src/app/api/sharedBudget/[sharedBudgetId]/host...           6             3  \n",
       "3  src/app/api/sharedBudget/[sharedBudgetId]/info...           2             2  \n",
       "4  src/app/api/sharedBudget/[sharedBudgetId]/repo...           2             2  "
      ]
     },
     "execution_count": 4,
     "metadata": {},
     "output_type": "execute_result"
    }
   ],
   "source": [
    "fe_fc_df = pd.read_csv('frontend_filechange.csv')\n",
    "be_fc_df = pd.read_csv('backend_filechange.csv')\n",
    "be_fc_df.head()"
   ]
  },
  {
   "cell_type": "code",
   "execution_count": 7,
   "metadata": {},
   "outputs": [
    {
     "data": {
      "text/html": [
       "<div>\n",
       "<style scoped>\n",
       "    .dataframe tbody tr th:only-of-type {\n",
       "        vertical-align: middle;\n",
       "    }\n",
       "\n",
       "    .dataframe tbody tr th {\n",
       "        vertical-align: top;\n",
       "    }\n",
       "\n",
       "    .dataframe thead th {\n",
       "        text-align: right;\n",
       "    }\n",
       "</style>\n",
       "<table border=\"1\" class=\"dataframe\">\n",
       "  <thead>\n",
       "    <tr style=\"text-align: right;\">\n",
       "      <th></th>\n",
       "      <th>filename</th>\n",
       "    </tr>\n",
       "  </thead>\n",
       "  <tbody>\n",
       "    <tr>\n",
       "      <th>0</th>\n",
       "      <td>src/app/api/sharedBudget/[sharedBudgetId]/host...</td>\n",
       "    </tr>\n",
       "    <tr>\n",
       "      <th>1</th>\n",
       "      <td>src/app/api/sharedBudget/[sharedBudgetId]/host...</td>\n",
       "    </tr>\n",
       "    <tr>\n",
       "      <th>2</th>\n",
       "      <td>src/app/api/sharedBudget/[sharedBudgetId]/host...</td>\n",
       "    </tr>\n",
       "    <tr>\n",
       "      <th>3</th>\n",
       "      <td>src/app/api/sharedBudget/[sharedBudgetId]/info...</td>\n",
       "    </tr>\n",
       "    <tr>\n",
       "      <th>4</th>\n",
       "      <td>src/app/api/sharedBudget/[sharedBudgetId]/repo...</td>\n",
       "    </tr>\n",
       "  </tbody>\n",
       "</table>\n",
       "</div>"
      ],
      "text/plain": [
       "                                            filename\n",
       "0  src/app/api/sharedBudget/[sharedBudgetId]/host...\n",
       "1  src/app/api/sharedBudget/[sharedBudgetId]/host...\n",
       "2  src/app/api/sharedBudget/[sharedBudgetId]/host...\n",
       "3  src/app/api/sharedBudget/[sharedBudgetId]/info...\n",
       "4  src/app/api/sharedBudget/[sharedBudgetId]/repo..."
      ]
     },
     "execution_count": 7,
     "metadata": {},
     "output_type": "execute_result"
    }
   ],
   "source": [
    "# Get unique file names into new df\n",
    "unique_be_fn = be_fc_df['file_name'].unique()\n",
    "be_feature = pd.DataFrame(unique_be_fn, columns=[\"filename\"])\n",
    "\n",
    "unique_fe_fn = fe_fc_df['file_name'].unique()\n",
    "fe_feature = pd.DataFrame(unique_fe_fn, columns=[\"filename\"])\n",
    "\n",
    "be_feature.head()"
   ]
  },
  {
   "cell_type": "code",
   "execution_count": 27,
   "metadata": {},
   "outputs": [
    {
     "data": {
      "text/plain": [
       "Index(['Feature', 'Description', 'Keywords'], dtype='object')"
      ]
     },
     "execution_count": 27,
     "metadata": {},
     "output_type": "execute_result"
    }
   ],
   "source": [
    "features_df.columns"
   ]
  },
  {
   "cell_type": "code",
   "execution_count": 33,
   "metadata": {},
   "outputs": [
    {
     "data": {
      "text/html": [
       "<div>\n",
       "<style scoped>\n",
       "    .dataframe tbody tr th:only-of-type {\n",
       "        vertical-align: middle;\n",
       "    }\n",
       "\n",
       "    .dataframe tbody tr th {\n",
       "        vertical-align: top;\n",
       "    }\n",
       "\n",
       "    .dataframe thead th {\n",
       "        text-align: right;\n",
       "    }\n",
       "</style>\n",
       "<table border=\"1\" class=\"dataframe\">\n",
       "  <thead>\n",
       "    <tr style=\"text-align: right;\">\n",
       "      <th></th>\n",
       "      <th>filename</th>\n",
       "      <th>Feature</th>\n",
       "    </tr>\n",
       "  </thead>\n",
       "  <tbody>\n",
       "    <tr>\n",
       "      <th>0</th>\n",
       "      <td>src/app/api/sharedBudget/[sharedBudgetId]/host...</td>\n",
       "      <td>SharedBudget</td>\n",
       "    </tr>\n",
       "    <tr>\n",
       "      <th>1</th>\n",
       "      <td>src/app/api/sharedBudget/[sharedBudgetId]/host...</td>\n",
       "      <td>SharedBudget</td>\n",
       "    </tr>\n",
       "    <tr>\n",
       "      <th>2</th>\n",
       "      <td>src/app/api/sharedBudget/[sharedBudgetId]/host...</td>\n",
       "      <td>User</td>\n",
       "    </tr>\n",
       "    <tr>\n",
       "      <th>3</th>\n",
       "      <td>src/app/api/sharedBudget/[sharedBudgetId]/info...</td>\n",
       "      <td>SharedBudget</td>\n",
       "    </tr>\n",
       "    <tr>\n",
       "      <th>4</th>\n",
       "      <td>src/app/api/sharedBudget/[sharedBudgetId]/repo...</td>\n",
       "      <td>SharedBudget</td>\n",
       "    </tr>\n",
       "  </tbody>\n",
       "</table>\n",
       "</div>"
      ],
      "text/plain": [
       "                                            filename       Feature\n",
       "0  src/app/api/sharedBudget/[sharedBudgetId]/host...  SharedBudget\n",
       "1  src/app/api/sharedBudget/[sharedBudgetId]/host...  SharedBudget\n",
       "2  src/app/api/sharedBudget/[sharedBudgetId]/host...          User\n",
       "3  src/app/api/sharedBudget/[sharedBudgetId]/info...  SharedBudget\n",
       "4  src/app/api/sharedBudget/[sharedBudgetId]/repo...  SharedBudget"
      ]
     },
     "execution_count": 33,
     "metadata": {},
     "output_type": "execute_result"
    }
   ],
   "source": [
    "def match_feature(filename, features):\n",
    "    filename_lower = filename.lower()  # Convert the filename to lowercase for case-insensitive matching\n",
    "    for index, row in features.iterrows():\n",
    "        keywords = str(row['Keywords']).split(',')  # Split the keywords by comma\n",
    "        keywords = [kw.strip().lower() for kw in keywords]  # Clean and lowercase each keyword\n",
    "        # Check if any keyword is in the filename\n",
    "        if any(keyword in filename_lower for keyword in keywords):\n",
    "          return row['Feature']  # Return the matching feature\n",
    "    return 'Other'  # If no match is found, return 'Other'\n",
    "\n",
    "# Apply the function to create a new column\n",
    "be_feature['Feature'] = be_feature['filename'].apply(lambda x: match_feature(x, features_df))\n",
    "fe_feature['Feature'] = fe_feature['filename'].apply(lambda x: match_feature(x, features_df))\n",
    "\n",
    "be_feature.head()\n"
   ]
  },
  {
   "cell_type": "code",
   "execution_count": 34,
   "metadata": {},
   "outputs": [],
   "source": [
    "be_feature.to_csv('backend_feature.csv', index=False)\n",
    "fe_feature.to_csv('frontend_feature.csv', index=False)"
   ]
  }
 ],
 "metadata": {
  "kernelspec": {
   "display_name": "Python 3",
   "language": "python",
   "name": "python3"
  },
  "language_info": {
   "codemirror_mode": {
    "name": "ipython",
    "version": 3
   },
   "file_extension": ".py",
   "mimetype": "text/x-python",
   "name": "python",
   "nbconvert_exporter": "python",
   "pygments_lexer": "ipython3",
   "version": "3.12.4"
  }
 },
 "nbformat": 4,
 "nbformat_minor": 2
}
